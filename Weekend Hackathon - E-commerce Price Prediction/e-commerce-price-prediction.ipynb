{
 "cells": [
  {
   "cell_type": "code",
   "execution_count": 1,
   "metadata": {
    "_cell_guid": "b1076dfc-b9ad-4769-8c92-a6c4dae69d19",
    "_uuid": "8f2839f25d086af736a60e9eeb907d3b93b6e0e5"
   },
   "outputs": [
    {
     "name": "stdout",
     "output_type": "stream",
     "text": [
      "/kaggle/input/ecommerce-data/Test.csv\n",
      "/kaggle/input/ecommerce-data/Train.csv\n",
      "/kaggle/input/ecommerce-data/Sample_Submission.xlsx\n"
     ]
    }
   ],
   "source": [
    "import numpy as np  \n",
    "import pandas as pd \n",
    "import seaborn as sns\n",
    "import matplotlib.pyplot as plt\n",
    "import warnings\n",
    "warnings.filterwarnings('ignore')\n",
    "import os\n",
    "for dirname, _, filenames in os.walk('/kaggle/input'):\n",
    "    for filename in filenames:\n",
    "        print(os.path.join(dirname, filename))"
   ]
  },
  {
   "cell_type": "code",
   "execution_count": 2,
   "metadata": {
    "_cell_guid": "79c7e3d0-c299-4dcb-8224-4455121ee9b0",
    "_uuid": "d629ff2d2480ee46fbb7e2d37f6b5fab8052498a"
   },
   "outputs": [],
   "source": [
    "train = pd.read_csv('/kaggle/input/ecommerce-data/Train.csv')\n",
    "test = pd.read_csv('/kaggle/input/ecommerce-data/Test.csv')\n",
    "sub = pd.read_excel('/kaggle/input/ecommerce-data/Sample_Submission.xlsx')"
   ]
  },
  {
   "cell_type": "code",
   "execution_count": 3,
   "metadata": {},
   "outputs": [
    {
     "data": {
      "text/plain": [
       "((2452, 8), (1051, 7), (1051, 1))"
      ]
     },
     "execution_count": 3,
     "metadata": {},
     "output_type": "execute_result"
    }
   ],
   "source": [
    "train.shape, test.shape, sub.shape"
   ]
  },
  {
   "cell_type": "code",
   "execution_count": 4,
   "metadata": {},
   "outputs": [
    {
     "data": {
      "text/html": [
       "<div>\n",
       "<style scoped>\n",
       "    .dataframe tbody tr th:only-of-type {\n",
       "        vertical-align: middle;\n",
       "    }\n",
       "\n",
       "    .dataframe tbody tr th {\n",
       "        vertical-align: top;\n",
       "    }\n",
       "\n",
       "    .dataframe thead th {\n",
       "        text-align: right;\n",
       "    }\n",
       "</style>\n",
       "<table border=\"1\" class=\"dataframe\">\n",
       "  <thead>\n",
       "    <tr style=\"text-align: right;\">\n",
       "      <th></th>\n",
       "      <th>Product</th>\n",
       "      <th>Product_Brand</th>\n",
       "      <th>Item_Category</th>\n",
       "      <th>Subcategory_1</th>\n",
       "      <th>Subcategory_2</th>\n",
       "      <th>Item_Rating</th>\n",
       "      <th>Date</th>\n",
       "      <th>Selling_Price</th>\n",
       "    </tr>\n",
       "  </thead>\n",
       "  <tbody>\n",
       "    <tr>\n",
       "      <th>0</th>\n",
       "      <td>P-2610</td>\n",
       "      <td>B-659</td>\n",
       "      <td>bags wallets belts</td>\n",
       "      <td>bags</td>\n",
       "      <td>hand bags</td>\n",
       "      <td>4.3</td>\n",
       "      <td>2/3/2017</td>\n",
       "      <td>291.0</td>\n",
       "    </tr>\n",
       "    <tr>\n",
       "      <th>1</th>\n",
       "      <td>P-2453</td>\n",
       "      <td>B-3078</td>\n",
       "      <td>clothing</td>\n",
       "      <td>women s clothing</td>\n",
       "      <td>western wear</td>\n",
       "      <td>3.1</td>\n",
       "      <td>7/1/2015</td>\n",
       "      <td>897.0</td>\n",
       "    </tr>\n",
       "    <tr>\n",
       "      <th>2</th>\n",
       "      <td>P-6802</td>\n",
       "      <td>B-1810</td>\n",
       "      <td>home decor festive needs</td>\n",
       "      <td>showpieces</td>\n",
       "      <td>ethnic</td>\n",
       "      <td>3.5</td>\n",
       "      <td>1/12/2019</td>\n",
       "      <td>792.0</td>\n",
       "    </tr>\n",
       "    <tr>\n",
       "      <th>3</th>\n",
       "      <td>P-4452</td>\n",
       "      <td>B-3078</td>\n",
       "      <td>beauty and personal care</td>\n",
       "      <td>eye care</td>\n",
       "      <td>h2o plus eye care</td>\n",
       "      <td>4.0</td>\n",
       "      <td>12/12/2014</td>\n",
       "      <td>837.0</td>\n",
       "    </tr>\n",
       "    <tr>\n",
       "      <th>4</th>\n",
       "      <td>P-8454</td>\n",
       "      <td>B-3078</td>\n",
       "      <td>clothing</td>\n",
       "      <td>men s clothing</td>\n",
       "      <td>t shirts</td>\n",
       "      <td>4.3</td>\n",
       "      <td>12/12/2013</td>\n",
       "      <td>470.0</td>\n",
       "    </tr>\n",
       "  </tbody>\n",
       "</table>\n",
       "</div>"
      ],
      "text/plain": [
       "  Product Product_Brand             Item_Category     Subcategory_1  \\\n",
       "0  P-2610         B-659        bags wallets belts              bags   \n",
       "1  P-2453        B-3078                  clothing  women s clothing   \n",
       "2  P-6802        B-1810  home decor festive needs        showpieces   \n",
       "3  P-4452        B-3078  beauty and personal care          eye care   \n",
       "4  P-8454        B-3078                  clothing    men s clothing   \n",
       "\n",
       "       Subcategory_2  Item_Rating        Date  Selling_Price  \n",
       "0          hand bags          4.3    2/3/2017          291.0  \n",
       "1       western wear          3.1    7/1/2015          897.0  \n",
       "2             ethnic          3.5   1/12/2019          792.0  \n",
       "3  h2o plus eye care          4.0  12/12/2014          837.0  \n",
       "4           t shirts          4.3  12/12/2013          470.0  "
      ]
     },
     "execution_count": 4,
     "metadata": {},
     "output_type": "execute_result"
    }
   ],
   "source": [
    "train.head(5)"
   ]
  },
  {
   "cell_type": "code",
   "execution_count": 5,
   "metadata": {},
   "outputs": [
    {
     "data": {
      "text/plain": [
       "Product          0\n",
       "Product_Brand    0\n",
       "Item_Category    0\n",
       "Subcategory_1    0\n",
       "Subcategory_2    0\n",
       "Item_Rating      0\n",
       "Date             0\n",
       "Selling_Price    0\n",
       "dtype: int64"
      ]
     },
     "execution_count": 5,
     "metadata": {},
     "output_type": "execute_result"
    }
   ],
   "source": [
    "train.isnull().sum()"
   ]
  },
  {
   "cell_type": "code",
   "execution_count": 6,
   "metadata": {},
   "outputs": [
    {
     "data": {
      "text/plain": [
       "Product          2452\n",
       "Product_Brand    1010\n",
       "Item_Category      75\n",
       "Subcategory_1     130\n",
       "Subcategory_2     336\n",
       "Item_Rating        41\n",
       "Date              483\n",
       "Selling_Price    1095\n",
       "dtype: int64"
      ]
     },
     "execution_count": 6,
     "metadata": {},
     "output_type": "execute_result"
    }
   ],
   "source": [
    "train.nunique()"
   ]
  },
  {
   "cell_type": "code",
   "execution_count": 7,
   "metadata": {},
   "outputs": [
    {
     "data": {
      "image/png": "[encoded data removed]",
      "text/plain": [
       "<Figure size 432x288 with 1 Axes>"
      ]
     },
     "metadata": {
      "needs_background": "light"
     },
     "output_type": "display_data"
    }
   ],
   "source": [
    "sns.distplot(np.log1p(train['Selling_Price']));"
   ]
  },
  {
   "cell_type": "code",
   "execution_count": 8,
   "metadata": {},
   "outputs": [],
   "source": [
    "#train = train[train['Selling_Price'] > 50]\n",
    "train = train[train['Selling_Price'] < 100000]"
   ]
  },
  {
   "cell_type": "code",
   "execution_count": 9,
   "metadata": {},
   "outputs": [
    {
     "data": {
      "text/plain": [
       "(3502, 8)"
      ]
     },
     "execution_count": 9,
     "metadata": {},
     "output_type": "execute_result"
    }
   ],
   "source": [
    "df = train.append(test,ignore_index=True)\n",
    "df.shape"
   ]
  },
  {
   "cell_type": "code",
   "execution_count": 10,
   "metadata": {},
   "outputs": [],
   "source": [
    "df['Date'] = pd.to_datetime(df['Date'])\n",
    "df['Day'] = df['Date'].dt.day\n",
    "df['Month'] = df['Date'].dt.month\n",
    "df['Year'] = df['Date'].dt.year\n",
    "#df['Dayofweek'] = pd.to_datetime(df['Date']).dt.dayofweek\n",
    "#df['DayOfyear'] = pd.to_datetime(df['Date']).dt.dayofyear\n",
    "#df['WeekOfyear'] = pd.to_datetime(df['Date']).dt.weekofyear\n",
    "df['Is_month_start'] =  df['Date'].dt.is_month_start \n",
    "df['Is_month_end'] = df['Date'].dt.is_month_end \n",
    "df['Is_quarter_start'] = df['Date'].dt.is_quarter_start\n",
    "df['Is_quarter_end'] = df['Date'].dt.is_quarter_end \n",
    "df['Is_year_start'] = df['Date'].dt.is_year_start \n",
    "df['Is_year_end'] = df['Date'].dt.is_year_end"
   ]
  },
  {
   "cell_type": "code",
   "execution_count": 11,
   "metadata": {},
   "outputs": [
    {
     "data": {
      "text/html": [
       "<div>\n",
       "<style scoped>\n",
       "    .dataframe tbody tr th:only-of-type {\n",
       "        vertical-align: middle;\n",
       "    }\n",
       "\n",
       "    .dataframe tbody tr th {\n",
       "        vertical-align: top;\n",
       "    }\n",
       "\n",
       "    .dataframe thead th {\n",
       "        text-align: right;\n",
       "    }\n",
       "</style>\n",
       "<table border=\"1\" class=\"dataframe\">\n",
       "  <thead>\n",
       "    <tr style=\"text-align: right;\">\n",
       "      <th></th>\n",
       "      <th>Product</th>\n",
       "      <th>Product_Brand</th>\n",
       "      <th>Item_Category</th>\n",
       "      <th>Subcategory_1</th>\n",
       "      <th>Subcategory_2</th>\n",
       "      <th>Item_Rating</th>\n",
       "      <th>Date</th>\n",
       "      <th>Selling_Price</th>\n",
       "      <th>Day</th>\n",
       "      <th>Month</th>\n",
       "      <th>Year</th>\n",
       "      <th>Is_month_start</th>\n",
       "      <th>Is_month_end</th>\n",
       "      <th>Is_quarter_start</th>\n",
       "      <th>Is_quarter_end</th>\n",
       "      <th>Is_year_start</th>\n",
       "      <th>Is_year_end</th>\n",
       "    </tr>\n",
       "  </thead>\n",
       "  <tbody>\n",
       "    <tr>\n",
       "      <th>0</th>\n",
       "      <td>P-2610</td>\n",
       "      <td>B-659</td>\n",
       "      <td>bags wallets belts</td>\n",
       "      <td>bags</td>\n",
       "      <td>hand bags</td>\n",
       "      <td>4.3</td>\n",
       "      <td>2017-02-03</td>\n",
       "      <td>291.0</td>\n",
       "      <td>3</td>\n",
       "      <td>2</td>\n",
       "      <td>2017</td>\n",
       "      <td>False</td>\n",
       "      <td>False</td>\n",
       "      <td>False</td>\n",
       "      <td>False</td>\n",
       "      <td>False</td>\n",
       "      <td>False</td>\n",
       "    </tr>\n",
       "    <tr>\n",
       "      <th>1</th>\n",
       "      <td>P-2453</td>\n",
       "      <td>B-3078</td>\n",
       "      <td>clothing</td>\n",
       "      <td>women s clothing</td>\n",
       "      <td>western wear</td>\n",
       "      <td>3.1</td>\n",
       "      <td>2015-07-01</td>\n",
       "      <td>897.0</td>\n",
       "      <td>1</td>\n",
       "      <td>7</td>\n",
       "      <td>2015</td>\n",
       "      <td>True</td>\n",
       "      <td>False</td>\n",
       "      <td>True</td>\n",
       "      <td>False</td>\n",
       "      <td>False</td>\n",
       "      <td>False</td>\n",
       "    </tr>\n",
       "    <tr>\n",
       "      <th>2</th>\n",
       "      <td>P-6802</td>\n",
       "      <td>B-1810</td>\n",
       "      <td>home decor festive needs</td>\n",
       "      <td>showpieces</td>\n",
       "      <td>ethnic</td>\n",
       "      <td>3.5</td>\n",
       "      <td>2019-01-12</td>\n",
       "      <td>792.0</td>\n",
       "      <td>12</td>\n",
       "      <td>1</td>\n",
       "      <td>2019</td>\n",
       "      <td>False</td>\n",
       "      <td>False</td>\n",
       "      <td>False</td>\n",
       "      <td>False</td>\n",
       "      <td>False</td>\n",
       "      <td>False</td>\n",
       "    </tr>\n",
       "  </tbody>\n",
       "</table>\n",
       "</div>"
      ],
      "text/plain": [
       "  Product Product_Brand             Item_Category     Subcategory_1  \\\n",
       "0  P-2610         B-659        bags wallets belts              bags   \n",
       "1  P-2453        B-3078                  clothing  women s clothing   \n",
       "2  P-6802        B-1810  home decor festive needs        showpieces   \n",
       "\n",
       "  Subcategory_2  Item_Rating       Date  Selling_Price  Day  Month  Year  \\\n",
       "0     hand bags          4.3 2017-02-03          291.0    3      2  2017   \n",
       "1  western wear          3.1 2015-07-01          897.0    1      7  2015   \n",
       "2        ethnic          3.5 2019-01-12          792.0   12      1  2019   \n",
       "\n",
       "   Is_month_start  Is_month_end  Is_quarter_start  Is_quarter_end  \\\n",
       "0           False         False             False           False   \n",
       "1            True         False              True           False   \n",
       "2           False         False             False           False   \n",
       "\n",
       "   Is_year_start  Is_year_end  \n",
       "0          False        False  \n",
       "1          False        False  \n",
       "2          False        False  "
      ]
     },
     "execution_count": 11,
     "metadata": {},
     "output_type": "execute_result"
    }
   ],
   "source": [
    "df.head(3)"
   ]
  },
  {
   "cell_type": "code",
   "execution_count": 12,
   "metadata": {},
   "outputs": [],
   "source": [
    "calc = df.groupby(['Product_Brand'], axis=0).agg({'Product_Brand':[('op1', 'count')]}).reset_index() \n",
    "calc.columns = ['Product_Brand','Product_Brand Count']\n",
    "df = df.merge(calc, on=['Product_Brand'], how='left')\n",
    "\n",
    "calc = df.groupby(['Item_Category'], axis=0).agg({'Item_Category':[('op1', 'count')]}).reset_index() \n",
    "calc.columns = ['Item_Category','Item_Category Count']\n",
    "df = df.merge(calc, on=['Item_Category'], how='left')\n",
    "\n",
    "calc = df.groupby(['Subcategory_1'], axis=0).agg({'Subcategory_1':[('op1', 'count')]}).reset_index() \n",
    "calc.columns = ['Subcategory_1','Subcategory_1 Count']\n",
    "df = df.merge(calc, on=['Subcategory_1'], how='left')\n",
    "\n",
    "calc = df.groupby(['Subcategory_2'], axis=0).agg({'Subcategory_2':[('op1', 'count')]}).reset_index() \n",
    "calc.columns = ['Subcategory_2','Subcategory_2 Count']\n",
    "df = df.merge(calc, on=['Subcategory_2'], how='left')"
   ]
  },
  {
   "cell_type": "code",
   "execution_count": 13,
   "metadata": {},
   "outputs": [],
   "source": [
    "agg_func = {\n",
    "    'Item_Rating': ['mean','median','min','max','sum']    \n",
    "}\n",
    "agg_func = df.groupby('Product_Brand').agg(agg_func)\n",
    "agg_func.columns = [ 'Product_Brand_' + ('_'.join(col).strip()) for col in agg_func.columns.values]\n",
    "agg_func.reset_index(inplace=True)\n",
    "df = df.merge(agg_func, on=['Product_Brand'], how='left')\n",
    "\n",
    "agg_func = {\n",
    "    'Item_Rating': ['mean','median','min','max','sum']    \n",
    "}\n",
    "agg_func = df.groupby('Item_Category').agg(agg_func)\n",
    "agg_func.columns = [ 'Item_Category_' + ('_'.join(col).strip()) for col in agg_func.columns.values]\n",
    "agg_func.reset_index(inplace=True)\n",
    "df = df.merge(agg_func, on=['Item_Category'], how='left')\n",
    "\n",
    "agg_func = {\n",
    "    'Item_Rating': ['mean','median','min','max','sum']    \n",
    "}\n",
    "agg_func = df.groupby('Subcategory_1').agg(agg_func)\n",
    "agg_func.columns = [ 'Subcategory_1_' + ('_'.join(col).strip()) for col in agg_func.columns.values]\n",
    "agg_func.reset_index(inplace=True)\n",
    "df = df.merge(agg_func, on=['Subcategory_1'], how='left')\n",
    "\n",
    "agg_func = {\n",
    "    'Item_Rating': ['mean','median','min','max','sum']    \n",
    "}\n",
    "agg_func = df.groupby('Subcategory_2').agg(agg_func)\n",
    "agg_func.columns = [ 'Subcategory_2_' + ('_'.join(col).strip()) for col in agg_func.columns.values]\n",
    "agg_func.reset_index(inplace=True)\n",
    "df = df.merge(agg_func, on=['Subcategory_2'], how='left')"
   ]
  },
  {
   "cell_type": "code",
   "execution_count": 14,
   "metadata": {},
   "outputs": [],
   "source": [
    "#df['Diff'] = (pd.to_datetime(\"today\") - df['Date']) / np.timedelta64(1,'D')"
   ]
  },
  {
   "cell_type": "code",
   "execution_count": 15,
   "metadata": {},
   "outputs": [],
   "source": [
    "agg_func = {\n",
    "    'Item_Rating': ['mean','median','min','max','sum']    \n",
    "}\n",
    "agg_func = df.groupby(['Product_Brand', 'Item_Category']).agg(agg_func)\n",
    "agg_func.columns = [ 'Product_Brand_Item_Category_' + ('_'.join(col).strip()) for col in agg_func.columns.values]\n",
    "agg_func.reset_index(inplace=True)\n",
    "df = df.merge(agg_func, on=['Product_Brand', 'Item_Category'], how='left')\n",
    "\n",
    "agg_func = {\n",
    "    'Item_Rating': ['mean','median','min','max','sum']    \n",
    "}\n",
    "agg_func = df.groupby(['Item_Category', 'Subcategory_2']).agg(agg_func)\n",
    "agg_func.columns = [ 'Item_Category_Subcategory_2_' + ('_'.join(col).strip()) for col in agg_func.columns.values]\n",
    "agg_func.reset_index(inplace=True)\n",
    "df = df.merge(agg_func, on=['Item_Category', 'Subcategory_2'], how='left')"
   ]
  },
  {
   "cell_type": "code",
   "execution_count": 16,
   "metadata": {},
   "outputs": [],
   "source": [
    "#for c in ['Product_Brand', 'Item_Category', 'Subcategory_1', 'Subcategory_2']:\n",
    "#    df[c] = df[c].astype('category')\n",
    "\n",
    "from sklearn.preprocessing import LabelEncoder\n",
    "le = LabelEncoder()\n",
    "df['Product_Brand'] = le.fit_transform(df['Product_Brand'])\n",
    "\n",
    "df = pd.get_dummies(df, columns=['Item_Category', 'Subcategory_1', 'Subcategory_2'], drop_first=True)"
   ]
  },
  {
   "cell_type": "code",
   "execution_count": 17,
   "metadata": {},
   "outputs": [],
   "source": [
    "df.drop(['Product','Date'], axis=1, inplace=True)"
   ]
  },
  {
   "cell_type": "code",
   "execution_count": 18,
   "metadata": {},
   "outputs": [],
   "source": [
    "train_df = df[df['Selling_Price'].isnull()!=True]\n",
    "test_df = df[df['Selling_Price'].isnull()==True]\n",
    "test_df.drop(['Selling_Price'], axis=1, inplace=True)"
   ]
  },
  {
   "cell_type": "code",
   "execution_count": 19,
   "metadata": {},
   "outputs": [],
   "source": [
    "train_df['Selling_Price'] = np.log1p(train_df['Selling_Price'])"
   ]
  },
  {
   "cell_type": "code",
   "execution_count": 20,
   "metadata": {},
   "outputs": [
    {
     "data": {
      "text/plain": [
       "((2451, 674), (2451,))"
      ]
     },
     "execution_count": 20,
     "metadata": {},
     "output_type": "execute_result"
    }
   ],
   "source": [
    "X = train_df.drop(labels=['Selling_Price'], axis=1)\n",
    "y = train_df['Selling_Price'].values\n",
    "\n",
    "X.shape, y.shape"
   ]
  },
  {
   "cell_type": "code",
   "execution_count": 21,
   "metadata": {},
   "outputs": [
    {
     "data": {
      "text/html": [
       "<div>\n",
       "<style scoped>\n",
       "    .dataframe tbody tr th:only-of-type {\n",
       "        vertical-align: middle;\n",
       "    }\n",
       "\n",
       "    .dataframe tbody tr th {\n",
       "        vertical-align: top;\n",
       "    }\n",
       "\n",
       "    .dataframe thead th {\n",
       "        text-align: right;\n",
       "    }\n",
       "</style>\n",
       "<table border=\"1\" class=\"dataframe\">\n",
       "  <thead>\n",
       "    <tr style=\"text-align: right;\">\n",
       "      <th></th>\n",
       "      <th>Product_Brand</th>\n",
       "      <th>Item_Rating</th>\n",
       "      <th>Day</th>\n",
       "      <th>Month</th>\n",
       "      <th>Year</th>\n",
       "      <th>Is_month_start</th>\n",
       "      <th>Is_month_end</th>\n",
       "      <th>Is_quarter_start</th>\n",
       "      <th>Is_quarter_end</th>\n",
       "      <th>Is_year_start</th>\n",
       "      <th>...</th>\n",
       "      <th>Subcategory_2_water fountains</th>\n",
       "      <th>Subcategory_2_wedges</th>\n",
       "      <th>Subcategory_2_western wear</th>\n",
       "      <th>Subcategory_2_winter seasonal wear</th>\n",
       "      <th>Subcategory_2_wishkey action figures</th>\n",
       "      <th>Subcategory_2_wrist bands</th>\n",
       "      <th>Subcategory_2_x plus action figures</th>\n",
       "      <th>Subcategory_2_yellow chimes butterfly fairy alloy</th>\n",
       "      <th>Subcategory_2_you2deal showpieces</th>\n",
       "      <th>Subcategory_2_zoop wrist watches</th>\n",
       "    </tr>\n",
       "  </thead>\n",
       "  <tbody>\n",
       "    <tr>\n",
       "      <th>0</th>\n",
       "      <td>1129</td>\n",
       "      <td>4.3</td>\n",
       "      <td>3</td>\n",
       "      <td>2</td>\n",
       "      <td>2017</td>\n",
       "      <td>False</td>\n",
       "      <td>False</td>\n",
       "      <td>False</td>\n",
       "      <td>False</td>\n",
       "      <td>False</td>\n",
       "      <td>...</td>\n",
       "      <td>0</td>\n",
       "      <td>0</td>\n",
       "      <td>0</td>\n",
       "      <td>0</td>\n",
       "      <td>0</td>\n",
       "      <td>0</td>\n",
       "      <td>0</td>\n",
       "      <td>0</td>\n",
       "      <td>0</td>\n",
       "      <td>0</td>\n",
       "    </tr>\n",
       "    <tr>\n",
       "      <th>1</th>\n",
       "      <td>876</td>\n",
       "      <td>3.1</td>\n",
       "      <td>1</td>\n",
       "      <td>7</td>\n",
       "      <td>2015</td>\n",
       "      <td>True</td>\n",
       "      <td>False</td>\n",
       "      <td>True</td>\n",
       "      <td>False</td>\n",
       "      <td>False</td>\n",
       "      <td>...</td>\n",
       "      <td>0</td>\n",
       "      <td>0</td>\n",
       "      <td>1</td>\n",
       "      <td>0</td>\n",
       "      <td>0</td>\n",
       "      <td>0</td>\n",
       "      <td>0</td>\n",
       "      <td>0</td>\n",
       "      <td>0</td>\n",
       "      <td>0</td>\n",
       "    </tr>\n",
       "    <tr>\n",
       "      <th>2</th>\n",
       "      <td>369</td>\n",
       "      <td>3.5</td>\n",
       "      <td>12</td>\n",
       "      <td>1</td>\n",
       "      <td>2019</td>\n",
       "      <td>False</td>\n",
       "      <td>False</td>\n",
       "      <td>False</td>\n",
       "      <td>False</td>\n",
       "      <td>False</td>\n",
       "      <td>...</td>\n",
       "      <td>0</td>\n",
       "      <td>0</td>\n",
       "      <td>0</td>\n",
       "      <td>0</td>\n",
       "      <td>0</td>\n",
       "      <td>0</td>\n",
       "      <td>0</td>\n",
       "      <td>0</td>\n",
       "      <td>0</td>\n",
       "      <td>0</td>\n",
       "    </tr>\n",
       "  </tbody>\n",
       "</table>\n",
       "<p>3 rows × 674 columns</p>\n",
       "</div>"
      ],
      "text/plain": [
       "   Product_Brand  Item_Rating  Day  Month  Year  Is_month_start  Is_month_end  \\\n",
       "0           1129          4.3    3      2  2017           False         False   \n",
       "1            876          3.1    1      7  2015            True         False   \n",
       "2            369          3.5   12      1  2019           False         False   \n",
       "\n",
       "   Is_quarter_start  Is_quarter_end  Is_year_start  ...  \\\n",
       "0             False           False          False  ...   \n",
       "1              True           False          False  ...   \n",
       "2             False           False          False  ...   \n",
       "\n",
       "   Subcategory_2_water fountains  Subcategory_2_wedges  \\\n",
       "0                              0                     0   \n",
       "1                              0                     0   \n",
       "2                              0                     0   \n",
       "\n",
       "   Subcategory_2_western wear  Subcategory_2_winter seasonal wear  \\\n",
       "0                           0                                   0   \n",
       "1                           1                                   0   \n",
       "2                           0                                   0   \n",
       "\n",
       "   Subcategory_2_wishkey action figures  Subcategory_2_wrist bands  \\\n",
       "0                                     0                          0   \n",
       "1                                     0                          0   \n",
       "2                                     0                          0   \n",
       "\n",
       "   Subcategory_2_x plus action figures  \\\n",
       "0                                    0   \n",
       "1                                    0   \n",
       "2                                    0   \n",
       "\n",
       "   Subcategory_2_yellow chimes butterfly fairy alloy  \\\n",
       "0                                                  0   \n",
       "1                                                  0   \n",
       "2                                                  0   \n",
       "\n",
       "   Subcategory_2_you2deal showpieces  Subcategory_2_zoop wrist watches  \n",
       "0                                  0                                 0  \n",
       "1                                  0                                 0  \n",
       "2                                  0                                 0  \n",
       "\n",
       "[3 rows x 674 columns]"
      ]
     },
     "execution_count": 21,
     "metadata": {},
     "output_type": "execute_result"
    }
   ],
   "source": [
    "X.head(3)"
   ]
  },
  {
   "cell_type": "code",
   "execution_count": 22,
   "metadata": {},
   "outputs": [],
   "source": [
    "from math import sqrt \n",
    "import lightgbm as lgb\n",
    "from sklearn.metrics import mean_squared_error, mean_squared_log_error"
   ]
  },
  {
   "cell_type": "code",
   "execution_count": 23,
   "metadata": {},
   "outputs": [],
   "source": [
    "Xtest = test_df"
   ]
  },
  {
   "cell_type": "code",
   "execution_count": 28,
   "metadata": {},
   "outputs": [
    {
     "name": "stdout",
     "output_type": "stream",
     "text": [
      "RMSLE:  0.5455786707778845\n",
      "RMSLE:  0.5900801808626127\n",
      "RMSLE:  0.6859925804211569\n",
      "RMSLE:  0.6983256039442461\n",
      "RMSLE:  0.6526216135269319\n",
      "RMSLE:  0.628949725032279\n",
      "RMSLE:  0.6802508897970103\n",
      "RMSLE:  0.6726291132532443\n",
      "RMSLE:  0.5623924020136778\n",
      "RMSLE:  0.5849485253771249\n",
      "RMSLE:  0.6062019117231231\n",
      "RMSLE:  0.63707954704216\n",
      "RMSLE:  0.6637212562078878\n",
      "RMSLE:  0.6373363284444784\n",
      "RMSLE:  0.6149651570215461\n"
     ]
    }
   ],
   "source": [
    "from sklearn.model_selection import KFold\n",
    "from sklearn.ensemble import RandomForestRegressor\n",
    "\n",
    "errrf = []\n",
    "y_pred_totrf = []\n",
    "\n",
    "fold = KFold(n_splits=15, shuffle=True, random_state=42)\n",
    "\n",
    "for train_index, test_index in fold.split(X):\n",
    "    X_train, X_test = X.loc[train_index], X.loc[test_index]\n",
    "    y_train, y_test = y[train_index], y[test_index]\n",
    "    \n",
    "    rf = RandomForestRegressor(random_state=42, n_estimators=200)\n",
    "    rf.fit(X_train, y_train)\n",
    "\n",
    "    y_pred_rf = rf.predict(X_test)\n",
    "    print(\"RMSLE: \", sqrt(mean_squared_log_error(np.exp(y_test), np.exp(y_pred_rf))))\n",
    "\n",
    "    errrf.append(sqrt(mean_squared_log_error(np.exp(y_test), np.exp(y_pred_rf))))\n",
    "    p = rf.predict(Xtest)\n",
    "    y_pred_totrf.append(p)"
   ]
  },
  {
   "cell_type": "code",
   "execution_count": 29,
   "metadata": {},
   "outputs": [
    {
     "data": {
      "text/plain": [
       "0.6307382336963575"
      ]
     },
     "execution_count": 29,
     "metadata": {},
     "output_type": "execute_result"
    }
   ],
   "source": [
    "np.mean(errrf,0)  "
   ]
  },
  {
   "cell_type": "code",
   "execution_count": 30,
   "metadata": {},
   "outputs": [],
   "source": [
    "final = np.exp(np.mean(y_pred_totrf,0))"
   ]
  },
  {
   "cell_type": "code",
   "execution_count": 32,
   "metadata": {},
   "outputs": [],
   "source": [
    "sub['Selling_Price'] = final"
   ]
  },
  {
   "cell_type": "code",
   "execution_count": 33,
   "metadata": {},
   "outputs": [
    {
     "data": {
      "text/html": [
       "<div>\n",
       "<style scoped>\n",
       "    .dataframe tbody tr th:only-of-type {\n",
       "        vertical-align: middle;\n",
       "    }\n",
       "\n",
       "    .dataframe tbody tr th {\n",
       "        vertical-align: top;\n",
       "    }\n",
       "\n",
       "    .dataframe thead th {\n",
       "        text-align: right;\n",
       "    }\n",
       "</style>\n",
       "<table border=\"1\" class=\"dataframe\">\n",
       "  <thead>\n",
       "    <tr style=\"text-align: right;\">\n",
       "      <th></th>\n",
       "      <th>Selling_Price</th>\n",
       "    </tr>\n",
       "  </thead>\n",
       "  <tbody>\n",
       "    <tr>\n",
       "      <th>0</th>\n",
       "      <td>2629.102379</td>\n",
       "    </tr>\n",
       "    <tr>\n",
       "      <th>1</th>\n",
       "      <td>442.262663</td>\n",
       "    </tr>\n",
       "    <tr>\n",
       "      <th>2</th>\n",
       "      <td>902.676671</td>\n",
       "    </tr>\n",
       "    <tr>\n",
       "      <th>3</th>\n",
       "      <td>413.670838</td>\n",
       "    </tr>\n",
       "    <tr>\n",
       "      <th>4</th>\n",
       "      <td>769.878269</td>\n",
       "    </tr>\n",
       "  </tbody>\n",
       "</table>\n",
       "</div>"
      ],
      "text/plain": [
       "   Selling_Price\n",
       "0    2629.102379\n",
       "1     442.262663\n",
       "2     902.676671\n",
       "3     413.670838\n",
       "4     769.878269"
      ]
     },
     "execution_count": 33,
     "metadata": {},
     "output_type": "execute_result"
    }
   ],
   "source": [
    "sub.head()"
   ]
  },
  {
   "cell_type": "code",
   "execution_count": 34,
   "metadata": {},
   "outputs": [],
   "source": [
    "sub.to_excel('Output.xlsx', index=False)"
   ]
  },
  {
   "cell_type": "code",
   "execution_count": 35,
   "metadata": {},
   "outputs": [],
   "source": [
    "for i in range(10):\n",
    "    sub['Selling_Price'] = np.exp(y_pred_totrf[i])\n",
    "    sub.to_excel('fold_'+str(i)+'_Output.xlsx', index=False)"
   ]
  }
 ],
 "metadata": {
  "kernelspec": {
   "display_name": "Python 3",
   "language": "python",
   "name": "python3"
  },
  "language_info": {
   "codemirror_mode": {
    "name": "ipython",
    "version": 3
   },
   "file_extension": ".py",
   "mimetype": "text/x-python",
   "name": "python",
   "nbconvert_exporter": "python",
   "pygments_lexer": "ipython3",
   "version": "3.7.1"
  }
 },
 "nbformat": 4,
 "nbformat_minor": 4
}
